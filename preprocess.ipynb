{
 "cells": [
  {
   "cell_type": "code",
   "execution_count": 1,
   "metadata": {},
   "outputs": [],
   "source": [
    "import pandas as pd"
   ]
  },
  {
   "cell_type": "code",
   "execution_count": 2,
   "metadata": {},
   "outputs": [
    {
     "data": {
      "text/html": [
       "<div>\n",
       "<style scoped>\n",
       "    .dataframe tbody tr th:only-of-type {\n",
       "        vertical-align: middle;\n",
       "    }\n",
       "\n",
       "    .dataframe tbody tr th {\n",
       "        vertical-align: top;\n",
       "    }\n",
       "\n",
       "    .dataframe thead th {\n",
       "        text-align: right;\n",
       "    }\n",
       "</style>\n",
       "<table border=\"1\" class=\"dataframe\">\n",
       "  <thead>\n",
       "    <tr style=\"text-align: right;\">\n",
       "      <th></th>\n",
       "      <th>0</th>\n",
       "    </tr>\n",
       "  </thead>\n",
       "  <tbody>\n",
       "    <tr>\n",
       "      <th>0</th>\n",
       "      <td>ஃ</td>\n",
       "    </tr>\n",
       "    <tr>\n",
       "      <th>1</th>\n",
       "      <td>ஃபாசிசம்</td>\n",
       "    </tr>\n",
       "    <tr>\n",
       "      <th>2</th>\n",
       "      <td>ஃபால்ஸ்-ஸ்டூவெர்ட்_காற்றாலை</td>\n",
       "    </tr>\n",
       "    <tr>\n",
       "      <th>3</th>\n",
       "      <td>ஃபைலேரியா</td>\n",
       "    </tr>\n",
       "    <tr>\n",
       "      <th>4</th>\n",
       "      <td>அ</td>\n",
       "    </tr>\n",
       "  </tbody>\n",
       "</table>\n",
       "</div>"
      ],
      "text/plain": [
       "                             0\n",
       "0                            ஃ\n",
       "1                     ஃபாசிசம்\n",
       "2  ஃபால்ஸ்-ஸ்டூவெர்ட்_காற்றாலை\n",
       "3                    ஃபைலேரியா\n",
       "4                            அ"
      ]
     },
     "execution_count": 2,
     "metadata": {},
     "output_type": "execute_result"
    }
   ],
   "source": [
    "wiki = pd.read_csv(\"./src/wiktionary_words.csv\", header=None)\n",
    "wiki.head()"
   ]
  },
  {
   "cell_type": "code",
   "execution_count": 3,
   "metadata": {},
   "outputs": [
    {
     "data": {
      "text/html": [
       "<div>\n",
       "<style scoped>\n",
       "    .dataframe tbody tr th:only-of-type {\n",
       "        vertical-align: middle;\n",
       "    }\n",
       "\n",
       "    .dataframe tbody tr th {\n",
       "        vertical-align: top;\n",
       "    }\n",
       "\n",
       "    .dataframe thead th {\n",
       "        text-align: right;\n",
       "    }\n",
       "</style>\n",
       "<table border=\"1\" class=\"dataframe\">\n",
       "  <thead>\n",
       "    <tr style=\"text-align: right;\">\n",
       "      <th></th>\n",
       "      <th>0</th>\n",
       "    </tr>\n",
       "  </thead>\n",
       "  <tbody>\n",
       "    <tr>\n",
       "      <th>95387</th>\n",
       "      <td>ஹௌ</td>\n",
       "    </tr>\n",
       "    <tr>\n",
       "      <th>95388</th>\n",
       "      <td>ஹ்</td>\n",
       "    </tr>\n",
       "    <tr>\n",
       "      <th>95389</th>\n",
       "      <td>ஹ்ரஸ்வம்</td>\n",
       "    </tr>\n",
       "    <tr>\n",
       "      <th>95390</th>\n",
       "      <td>ஹ்ருதீகரி</td>\n",
       "    </tr>\n",
       "    <tr>\n",
       "      <th>95391</th>\n",
       "      <td>ஹ்ருதீகரித்தல்</td>\n",
       "    </tr>\n",
       "  </tbody>\n",
       "</table>\n",
       "</div>"
      ],
      "text/plain": [
       "                    0\n",
       "95387              ஹௌ\n",
       "95388              ஹ்\n",
       "95389        ஹ்ரஸ்வம்\n",
       "95390       ஹ்ருதீகரி\n",
       "95391  ஹ்ருதீகரித்தல்"
      ]
     },
     "execution_count": 3,
     "metadata": {},
     "output_type": "execute_result"
    }
   ],
   "source": [
    "wiki.tail()"
   ]
  },
  {
   "cell_type": "code",
   "execution_count": 4,
   "metadata": {},
   "outputs": [
    {
     "data": {
      "text/plain": [
       "'ஃபைலேரியா'"
      ]
     },
     "execution_count": 4,
     "metadata": {},
     "output_type": "execute_result"
    }
   ],
   "source": [
    "random_word_1 = wiki.iloc[3, 0]\n",
    "random_word_1"
   ]
  },
  {
   "cell_type": "code",
   "execution_count": 5,
   "metadata": {},
   "outputs": [
    {
     "name": "stdout",
     "output_type": "stream",
     "text": [
      "ஃ 2947\n",
      "ப 2986\n",
      "ை 3016\n",
      "ல 2994\n",
      "ே 3015\n",
      "ர 2992\n",
      "ி 3007\n",
      "ய 2991\n",
      "ா 3006\n"
     ]
    }
   ],
   "source": [
    "for i in random_word_1:\n",
    "    print(i, ord(i))"
   ]
  },
  {
   "cell_type": "code",
   "execution_count": 6,
   "metadata": {},
   "outputs": [
    {
     "data": {
      "text/plain": [
       "'ஹௌ'"
      ]
     },
     "execution_count": 6,
     "metadata": {},
     "output_type": "execute_result"
    }
   ],
   "source": [
    "random_word_2 = wiki.iloc[95387, 0]\n",
    "random_word_2"
   ]
  },
  {
   "cell_type": "code",
   "execution_count": 7,
   "metadata": {},
   "outputs": [
    {
     "name": "stdout",
     "output_type": "stream",
     "text": [
      "ஹ 3001\n",
      "ௌ 3020\n"
     ]
    }
   ],
   "source": [
    "for i in random_word_2:\n",
    "    print(i, ord(i))"
   ]
  },
  {
   "cell_type": "code",
   "execution_count": 8,
   "metadata": {},
   "outputs": [
    {
     "data": {
      "text/plain": [
       "'ஹெஜீப்'"
      ]
     },
     "execution_count": 8,
     "metadata": {},
     "output_type": "execute_result"
    }
   ],
   "source": [
    "random_word_3 = wiki.iloc[95363, 0]\n",
    "random_word_3"
   ]
  },
  {
   "cell_type": "code",
   "execution_count": 9,
   "metadata": {},
   "outputs": [
    {
     "name": "stdout",
     "output_type": "stream",
     "text": [
      "ஹ 3001\n",
      "ெ 3014\n",
      "ஜ 2972\n",
      "ீ 3008\n",
      "ப 2986\n",
      "் 3021\n"
     ]
    }
   ],
   "source": [
    "for i in random_word_3:\n",
    "    print(i, ord(i))"
   ]
  },
  {
   "cell_type": "code",
   "execution_count": 10,
   "metadata": {},
   "outputs": [
    {
     "name": "stdout",
     "output_type": "stream",
     "text": [
      "஀\n",
      "஁\n",
      "ஂ\n",
      "ஃ\n",
      "஄\n",
      "அ\n",
      "ஆ\n",
      "இ\n",
      "ஈ\n",
      "உ\n",
      "ஊ\n",
      "஋\n",
      "஌\n",
      "஍\n",
      "எ\n",
      "ஏ\n",
      "ஐ\n",
      "஑\n",
      "ஒ\n",
      "ஓ\n",
      "ஔ\n",
      "க\n",
      "஖\n",
      "஗\n",
      "஘\n",
      "ங\n",
      "ச\n",
      "஛\n",
      "ஜ\n",
      "஝\n",
      "ஞ\n",
      "ட\n",
      "஠\n",
      "஡\n",
      "஢\n",
      "ண\n",
      "த\n",
      "஥\n",
      "஦\n",
      "஧\n",
      "ந\n",
      "ன\n",
      "ப\n",
      "஫\n",
      "஬\n",
      "஭\n",
      "ம\n",
      "ய\n",
      "ர\n",
      "ற\n",
      "ல\n",
      "ள\n",
      "ழ\n",
      "வ\n",
      "ஶ\n",
      "ஷ\n",
      "ஸ\n",
      "ஹ\n",
      "஺\n",
      "஻\n",
      "஼\n",
      "஽\n",
      "ா\n",
      "ி\n",
      "ீ\n",
      "ு\n",
      "ூ\n",
      "௃\n",
      "௄\n",
      "௅\n",
      "ெ\n",
      "ே\n",
      "ை\n",
      "௉\n",
      "ொ\n",
      "ோ\n",
      "ௌ\n",
      "்\n",
      "௎\n",
      "௏\n",
      "ௐ\n",
      "௑\n",
      "௒\n",
      "௓\n",
      "௔\n",
      "௕\n",
      "௖\n",
      "ௗ\n",
      "௘\n",
      "௙\n",
      "௚\n",
      "௛\n",
      "௜\n",
      "௝\n",
      "௞\n",
      "௟\n",
      "௠\n",
      "௡\n",
      "௢\n",
      "௣\n",
      "௤\n",
      "௥\n",
      "௦\n",
      "௧\n",
      "௨\n",
      "௩\n",
      "௪\n",
      "௫\n",
      "௬\n",
      "௭\n",
      "௮\n",
      "௯\n",
      "௰\n",
      "௱\n",
      "௲\n",
      "௳\n",
      "௴\n",
      "௵\n",
      "௶\n",
      "௷\n",
      "௸\n",
      "௹\n",
      "௺\n",
      "௻\n",
      "௼\n",
      "௽\n",
      "௾\n",
      "௿\n"
     ]
    }
   ],
   "source": [
    "# Tamil\n",
    "# Range: 0B80–0BFF\n",
    "\n",
    "for i in range(0xB80, 0xBFF + 1):\n",
    "    print(chr(i))"
   ]
  },
  {
   "cell_type": "code",
   "execution_count": 11,
   "metadata": {},
   "outputs": [
    {
     "name": "stdout",
     "output_type": "stream",
     "text": [
      "கௌரி\n"
     ]
    }
   ],
   "source": [
    "au = 0x0BCC\n",
    "ka = 0x0B95\n",
    "print(chr(ka) + chr(au) + chr(0x0BB0) + chr(0x0BBF))"
   ]
  },
  {
   "cell_type": "code",
   "execution_count": 12,
   "metadata": {},
   "outputs": [],
   "source": [
    "target = \"./src/cleaned_wiktionary_words.csv\"\n",
    "\n",
    "wiki = wiki[~(wiki[0].str.contains(r'[-._\\s]'))]"
   ]
  },
  {
   "cell_type": "code",
   "execution_count": 13,
   "metadata": {},
   "outputs": [
    {
     "data": {
      "text/html": [
       "<div>\n",
       "<style scoped>\n",
       "    .dataframe tbody tr th:only-of-type {\n",
       "        vertical-align: middle;\n",
       "    }\n",
       "\n",
       "    .dataframe tbody tr th {\n",
       "        vertical-align: top;\n",
       "    }\n",
       "\n",
       "    .dataframe thead th {\n",
       "        text-align: right;\n",
       "    }\n",
       "</style>\n",
       "<table border=\"1\" class=\"dataframe\">\n",
       "  <thead>\n",
       "    <tr style=\"text-align: right;\">\n",
       "      <th></th>\n",
       "      <th>0</th>\n",
       "      <th>1</th>\n",
       "      <th>2</th>\n",
       "    </tr>\n",
       "  </thead>\n",
       "  <tbody>\n",
       "    <tr>\n",
       "      <th>0</th>\n",
       "      <td>U+0B82</td>\n",
       "      <td>ஂ</td>\n",
       "      <td>TAMIL-SIGN-ANUSVARA</td>\n",
       "    </tr>\n",
       "    <tr>\n",
       "      <th>1</th>\n",
       "      <td>U+0B83</td>\n",
       "      <td>ஃ</td>\n",
       "      <td>TAMIL-SIGN-VISARGA</td>\n",
       "    </tr>\n",
       "    <tr>\n",
       "      <th>2</th>\n",
       "      <td>U+0B85</td>\n",
       "      <td>அ</td>\n",
       "      <td>TAMIL-LETTER-A</td>\n",
       "    </tr>\n",
       "    <tr>\n",
       "      <th>3</th>\n",
       "      <td>U+0B86</td>\n",
       "      <td>ஆ</td>\n",
       "      <td>TAMIL-LETTER-AA</td>\n",
       "    </tr>\n",
       "    <tr>\n",
       "      <th>4</th>\n",
       "      <td>U+0B87</td>\n",
       "      <td>இ</td>\n",
       "      <td>TAMIL-LETTER-I</td>\n",
       "    </tr>\n",
       "  </tbody>\n",
       "</table>\n",
       "</div>"
      ],
      "text/plain": [
       "        0  1                    2\n",
       "0  U+0B82  ஂ  TAMIL-SIGN-ANUSVARA\n",
       "1  U+0B83  ஃ   TAMIL-SIGN-VISARGA\n",
       "2  U+0B85  அ       TAMIL-LETTER-A\n",
       "3  U+0B86  ஆ      TAMIL-LETTER-AA\n",
       "4  U+0B87  இ       TAMIL-LETTER-I"
      ]
     },
     "execution_count": 13,
     "metadata": {},
     "output_type": "execute_result"
    }
   ],
   "source": [
    "tam_uni = pd.read_csv(\"./src/tamil_unicode.csv\", header=None)\n",
    "tam_uni.head()"
   ]
  },
  {
   "cell_type": "code",
   "execution_count": 14,
   "metadata": {},
   "outputs": [],
   "source": [
    "def unicode_to_base10(unicode):\n",
    "    return int(unicode[2:], base=16)"
   ]
  },
  {
   "cell_type": "code",
   "execution_count": 15,
   "metadata": {},
   "outputs": [],
   "source": [
    "\n",
    "tam_uni_b10 = tam_uni\n",
    "tam_uni_b10[0] = tam_uni_b10[0].apply(lambda unicode: unicode_to_base10(unicode))"
   ]
  },
  {
   "cell_type": "code",
   "execution_count": 16,
   "metadata": {},
   "outputs": [
    {
     "data": {
      "text/html": [
       "<div>\n",
       "<style scoped>\n",
       "    .dataframe tbody tr th:only-of-type {\n",
       "        vertical-align: middle;\n",
       "    }\n",
       "\n",
       "    .dataframe tbody tr th {\n",
       "        vertical-align: top;\n",
       "    }\n",
       "\n",
       "    .dataframe thead th {\n",
       "        text-align: right;\n",
       "    }\n",
       "</style>\n",
       "<table border=\"1\" class=\"dataframe\">\n",
       "  <thead>\n",
       "    <tr style=\"text-align: right;\">\n",
       "      <th></th>\n",
       "      <th>0</th>\n",
       "      <th>1</th>\n",
       "      <th>2</th>\n",
       "    </tr>\n",
       "  </thead>\n",
       "  <tbody>\n",
       "    <tr>\n",
       "      <th>0</th>\n",
       "      <td>2946</td>\n",
       "      <td>ஂ</td>\n",
       "      <td>TAMIL-SIGN-ANUSVARA</td>\n",
       "    </tr>\n",
       "    <tr>\n",
       "      <th>1</th>\n",
       "      <td>2947</td>\n",
       "      <td>ஃ</td>\n",
       "      <td>TAMIL-SIGN-VISARGA</td>\n",
       "    </tr>\n",
       "    <tr>\n",
       "      <th>2</th>\n",
       "      <td>2949</td>\n",
       "      <td>அ</td>\n",
       "      <td>TAMIL-LETTER-A</td>\n",
       "    </tr>\n",
       "    <tr>\n",
       "      <th>3</th>\n",
       "      <td>2950</td>\n",
       "      <td>ஆ</td>\n",
       "      <td>TAMIL-LETTER-AA</td>\n",
       "    </tr>\n",
       "    <tr>\n",
       "      <th>4</th>\n",
       "      <td>2951</td>\n",
       "      <td>இ</td>\n",
       "      <td>TAMIL-LETTER-I</td>\n",
       "    </tr>\n",
       "    <tr>\n",
       "      <th>...</th>\n",
       "      <td>...</td>\n",
       "      <td>...</td>\n",
       "      <td>...</td>\n",
       "    </tr>\n",
       "    <tr>\n",
       "      <th>67</th>\n",
       "      <td>3062</td>\n",
       "      <td>௶</td>\n",
       "      <td>TAMIL-DEBIT-SIGN</td>\n",
       "    </tr>\n",
       "    <tr>\n",
       "      <th>68</th>\n",
       "      <td>3063</td>\n",
       "      <td>௷</td>\n",
       "      <td>TAMIL-CREDIT-SIGN</td>\n",
       "    </tr>\n",
       "    <tr>\n",
       "      <th>69</th>\n",
       "      <td>3064</td>\n",
       "      <td>௸</td>\n",
       "      <td>TAMIL-AS-ABOVE-SIGN</td>\n",
       "    </tr>\n",
       "    <tr>\n",
       "      <th>70</th>\n",
       "      <td>3065</td>\n",
       "      <td>௹</td>\n",
       "      <td>TAMIL-RUPEE-SIGN</td>\n",
       "    </tr>\n",
       "    <tr>\n",
       "      <th>71</th>\n",
       "      <td>3066</td>\n",
       "      <td>௺</td>\n",
       "      <td>TAMIL-NUMBER-SIGN</td>\n",
       "    </tr>\n",
       "  </tbody>\n",
       "</table>\n",
       "<p>72 rows × 3 columns</p>\n",
       "</div>"
      ],
      "text/plain": [
       "       0  1                    2\n",
       "0   2946  ஂ  TAMIL-SIGN-ANUSVARA\n",
       "1   2947  ஃ   TAMIL-SIGN-VISARGA\n",
       "2   2949  அ       TAMIL-LETTER-A\n",
       "3   2950  ஆ      TAMIL-LETTER-AA\n",
       "4   2951  இ       TAMIL-LETTER-I\n",
       "..   ... ..                  ...\n",
       "67  3062  ௶     TAMIL-DEBIT-SIGN\n",
       "68  3063  ௷    TAMIL-CREDIT-SIGN\n",
       "69  3064  ௸  TAMIL-AS-ABOVE-SIGN\n",
       "70  3065  ௹     TAMIL-RUPEE-SIGN\n",
       "71  3066  ௺    TAMIL-NUMBER-SIGN\n",
       "\n",
       "[72 rows x 3 columns]"
      ]
     },
     "execution_count": 16,
     "metadata": {},
     "output_type": "execute_result"
    }
   ],
   "source": [
    "tam_uni_b10"
   ]
  },
  {
   "cell_type": "markdown",
   "metadata": {},
   "source": []
  },
  {
   "cell_type": "code",
   "execution_count": 17,
   "metadata": {},
   "outputs": [],
   "source": [
    "def word_to_arr(word):\n",
    "    x = []\n",
    "    for i in word:\n",
    "        x.append(ord(i))\n",
    "    \n",
    "    return x\n",
    "\n",
    "\n",
    "valid_unicodes = tam_uni_b10.iloc[:, 0].tolist()\n",
    "\n",
    "to_remove = []\n",
    "\n",
    "for word in wiki.iloc[:, 0]:\n",
    "    arr = word_to_arr(word)\n",
    "    for i in arr:\n",
    "        if i not in valid_unicodes:\n",
    "            to_remove.append(word)\n",
    "            break\n",
    "\n",
    "\n",
    "target = \"./src/cleaned_wiktionary_words.csv\"\n",
    "wiki = wiki[~(wiki[0].isin(to_remove))]\n",
    "wiki.to_csv(target, index=False, header=False)\n"
   ]
  },
  {
   "cell_type": "code",
   "execution_count": 18,
   "metadata": {},
   "outputs": [],
   "source": [
    "target = \"./src/tamil_unicode_b10.csv\"\n",
    "\n",
    "tam_uni_b10.to_csv(target, index=False, header=False)"
   ]
  },
  {
   "cell_type": "code",
   "execution_count": 19,
   "metadata": {},
   "outputs": [],
   "source": [
    "\n",
    "def unicode_hyp_to_b10_hyp(unicode_hyp):\n",
    "    unicode_arr = unicode_hyp.split(\"-\")\n",
    "\n",
    "    b10_arr = []\n",
    "    for unicode in unicode_arr:\n",
    "        if unicode != \"\":\n",
    "            b10_arr.append(str(unicode_to_base10(unicode)))\n",
    "\n",
    "    b10_hyp = \"-\".join(b10_arr)\n",
    "    if b10_hyp == \"\":\n",
    "        return \"-\"\n",
    "    \n",
    "    return b10_hyp\n"
   ]
  },
  {
   "cell_type": "code",
   "execution_count": 20,
   "metadata": {},
   "outputs": [],
   "source": [
    "src = \"./src/tamil_letters_similar_pronounc.csv\"\n",
    "\n",
    "tam_err = pd.read_csv(src, header=None)\n",
    "\n",
    "tam_err[0] = tam_err[0].apply(lambda unicode: unicode_to_base10(unicode))\n",
    "tam_err[3] = tam_err[3].apply(lambda unicode_hyp: unicode_hyp_to_b10_hyp(unicode_hyp))"
   ]
  },
  {
   "cell_type": "code",
   "execution_count": 21,
   "metadata": {},
   "outputs": [
    {
     "data": {
      "text/html": [
       "<div>\n",
       "<style scoped>\n",
       "    .dataframe tbody tr th:only-of-type {\n",
       "        vertical-align: middle;\n",
       "    }\n",
       "\n",
       "    .dataframe tbody tr th {\n",
       "        vertical-align: top;\n",
       "    }\n",
       "\n",
       "    .dataframe thead th {\n",
       "        text-align: right;\n",
       "    }\n",
       "</style>\n",
       "<table border=\"1\" class=\"dataframe\">\n",
       "  <thead>\n",
       "    <tr style=\"text-align: right;\">\n",
       "      <th></th>\n",
       "      <th>0</th>\n",
       "      <th>1</th>\n",
       "      <th>2</th>\n",
       "      <th>3</th>\n",
       "    </tr>\n",
       "  </thead>\n",
       "  <tbody>\n",
       "    <tr>\n",
       "      <th>0</th>\n",
       "      <td>2946</td>\n",
       "      <td>ஂ</td>\n",
       "      <td>TAMIL-SIGN-ANUSVARA</td>\n",
       "      <td>-</td>\n",
       "    </tr>\n",
       "    <tr>\n",
       "      <th>1</th>\n",
       "      <td>2947</td>\n",
       "      <td>ஃ</td>\n",
       "      <td>TAMIL-SIGN-VISARGA</td>\n",
       "      <td>-</td>\n",
       "    </tr>\n",
       "    <tr>\n",
       "      <th>2</th>\n",
       "      <td>2949</td>\n",
       "      <td>அ</td>\n",
       "      <td>TAMIL-LETTER-A</td>\n",
       "      <td>2950</td>\n",
       "    </tr>\n",
       "    <tr>\n",
       "      <th>3</th>\n",
       "      <td>2950</td>\n",
       "      <td>ஆ</td>\n",
       "      <td>TAMIL-LETTER-AA</td>\n",
       "      <td>2949</td>\n",
       "    </tr>\n",
       "    <tr>\n",
       "      <th>4</th>\n",
       "      <td>2951</td>\n",
       "      <td>இ</td>\n",
       "      <td>TAMIL-LETTER-I</td>\n",
       "      <td>2952</td>\n",
       "    </tr>\n",
       "    <tr>\n",
       "      <th>...</th>\n",
       "      <td>...</td>\n",
       "      <td>...</td>\n",
       "      <td>...</td>\n",
       "      <td>...</td>\n",
       "    </tr>\n",
       "    <tr>\n",
       "      <th>67</th>\n",
       "      <td>3062</td>\n",
       "      <td>௶</td>\n",
       "      <td>TAMIL-DEBIT-SIGN</td>\n",
       "      <td>-</td>\n",
       "    </tr>\n",
       "    <tr>\n",
       "      <th>68</th>\n",
       "      <td>3063</td>\n",
       "      <td>௷</td>\n",
       "      <td>TAMIL-CREDIT-SIGN</td>\n",
       "      <td>-</td>\n",
       "    </tr>\n",
       "    <tr>\n",
       "      <th>69</th>\n",
       "      <td>3064</td>\n",
       "      <td>௸</td>\n",
       "      <td>TAMIL-AS-ABOVE-SIGN</td>\n",
       "      <td>-</td>\n",
       "    </tr>\n",
       "    <tr>\n",
       "      <th>70</th>\n",
       "      <td>3065</td>\n",
       "      <td>௹</td>\n",
       "      <td>TAMIL-RUPEE-SIGN</td>\n",
       "      <td>-</td>\n",
       "    </tr>\n",
       "    <tr>\n",
       "      <th>71</th>\n",
       "      <td>3066</td>\n",
       "      <td>௺</td>\n",
       "      <td>TAMIL-NUMBER-SIGN</td>\n",
       "      <td>-</td>\n",
       "    </tr>\n",
       "  </tbody>\n",
       "</table>\n",
       "<p>72 rows × 4 columns</p>\n",
       "</div>"
      ],
      "text/plain": [
       "       0  1                    2     3\n",
       "0   2946  ஂ  TAMIL-SIGN-ANUSVARA     -\n",
       "1   2947  ஃ   TAMIL-SIGN-VISARGA     -\n",
       "2   2949  அ       TAMIL-LETTER-A  2950\n",
       "3   2950  ஆ      TAMIL-LETTER-AA  2949\n",
       "4   2951  இ       TAMIL-LETTER-I  2952\n",
       "..   ... ..                  ...   ...\n",
       "67  3062  ௶     TAMIL-DEBIT-SIGN     -\n",
       "68  3063  ௷    TAMIL-CREDIT-SIGN     -\n",
       "69  3064  ௸  TAMIL-AS-ABOVE-SIGN     -\n",
       "70  3065  ௹     TAMIL-RUPEE-SIGN     -\n",
       "71  3066  ௺    TAMIL-NUMBER-SIGN     -\n",
       "\n",
       "[72 rows x 4 columns]"
      ]
     },
     "execution_count": 21,
     "metadata": {},
     "output_type": "execute_result"
    }
   ],
   "source": [
    "tam_err"
   ]
  },
  {
   "cell_type": "code",
   "execution_count": 22,
   "metadata": {},
   "outputs": [],
   "source": [
    "target = \"./src/tamil_letters_similar_pronounc_b10.csv\"\n",
    "\n",
    "tam_err.to_csv(target, index=False, header=False)"
   ]
  },
  {
   "cell_type": "code",
   "execution_count": null,
   "metadata": {},
   "outputs": [],
   "source": []
  }
 ],
 "metadata": {
  "kernelspec": {
   "display_name": "Python 3",
   "language": "python",
   "name": "python3"
  },
  "language_info": {
   "codemirror_mode": {
    "name": "ipython",
    "version": 3
   },
   "file_extension": ".py",
   "mimetype": "text/x-python",
   "name": "python",
   "nbconvert_exporter": "python",
   "pygments_lexer": "ipython3",
   "version": "3.10.12"
  }
 },
 "nbformat": 4,
 "nbformat_minor": 2
}
